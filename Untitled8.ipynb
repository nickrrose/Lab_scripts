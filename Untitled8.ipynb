{
 "cells": [
  {
   "cell_type": "code",
   "execution_count": 4,
   "id": "975b732d",
   "metadata": {},
   "outputs": [],
   "source": [
    "class EmissionTable():\n",
    "    '''\n",
    "    \n",
    "    '''\n",
    "    \n",
    "    def __init__(self, table):\n",
    "        \n",
    "        self.emissionTable = {}\n",
    "        self.states = []\n",
    "        \n",
    "        for i, line in enumerate(table):\n",
    "            if i == 0:\n",
    "                for j in line:\n",
    "                    self.states.append(j)\n",
    "            else:\n",
    "                state = line[0]\n",
    "                for index, j in enumerate(line[1:]):\n",
    "                    self.emissionTable[(state, self.states[index])] = float(j)\n",
    "            "
   ]
  },
  {
   "cell_type": "code",
   "execution_count": 17,
   "id": "c2fbdc2b",
   "metadata": {},
   "outputs": [],
   "source": [
    "class HiddenPathProb():\n",
    "    '''\n",
    "    \n",
    "    '''\n",
    "    \n",
    "    def __init__(self):\n",
    "        \n",
    "        self.prob = 1\n",
    "        \n",
    "        \n",
    "    def findProb(self, x, chars, pi, states, emissionTable):\n",
    "        \n",
    "        dictionary = {}\n",
    "        for i in range(len(x)):\n",
    "            emit = (pi[i], x[i])\n",
    "            \n",
    "            if emit not in dictionary:\n",
    "                dictionary[emit] = 1\n",
    "                \n",
    "            else:\n",
    "                dictionary[emit] += 1\n",
    "        \n",
    "        for key, value in dictionary.items():\n",
    "            self.prob = self.prob * (emissionTable[(key[0], key[1])] ** value)\n",
    "            \n",
    "        return self.prob\n",
    "            "
   ]
  },
  {
   "cell_type": "code",
   "execution_count": 21,
   "id": "7f012ae4",
   "metadata": {},
   "outputs": [
    {
     "name": "stdout",
     "output_type": "stream",
     "text": [
      "3.1753644585741556e-37\n"
     ]
    }
   ],
   "source": [
    "def main(infile):\n",
    "    '''\n",
    "    The main method. This method takes file containing a row with\n",
    "    an amino acid string peptide.\n",
    "    Prints output into a file named 'rosalind_17.txt.out', \n",
    "    containing rows of returned Cyclosprectrum.\n",
    "    '''\n",
    "    \n",
    "    x = ''\n",
    "    chars = []\n",
    "    pi = ''\n",
    "    states = []\n",
    "    emissionTable = []\n",
    "    \n",
    "    section = 0\n",
    "    with open(infile) as f:\n",
    "        for i, line in enumerate(f.readlines()):\n",
    "            \n",
    "            if section == 0:\n",
    "                x = line.strip()\n",
    "                section += 1\n",
    "                \n",
    "            elif section == 1 and '-' not in line:\n",
    "                chars = line.strip().split()\n",
    "                section += 1\n",
    "                \n",
    "            elif section == 2 and '-' not in line:\n",
    "                pi = line.strip()\n",
    "                section += 1\n",
    "            \n",
    "            elif section == 3 and '-' not in line:\n",
    "                states = line.strip().split()\n",
    "                section += 1\n",
    "                \n",
    "            elif section == 4 and '-' not in line:\n",
    "                emissionTable.append(line.strip().split())\n",
    "                \n",
    "    \n",
    "    emissionTable = EmissionTable(emissionTable).emissionTable\n",
    "    \n",
    "    prob = HiddenPathProb().findProb(x, chars, pi, states, emissionTable)\n",
    "    print(prob)\n",
    "    \n",
    "            \n",
    "    \n",
    "    with open('rosalind_20.txt.out', 'w') as out:\n",
    "        print(prob, file=out)\n",
    "    \n",
    "    \n",
    "if __name__ == \"__main__\":\n",
    "    main('/home/nick_rose/Downloads/rosalind_ba10b.txt')"
   ]
  },
  {
   "cell_type": "code",
   "execution_count": null,
   "id": "7a3edf31",
   "metadata": {},
   "outputs": [],
   "source": []
  },
  {
   "cell_type": "code",
   "execution_count": null,
   "id": "460323f8",
   "metadata": {},
   "outputs": [],
   "source": []
  }
 ],
 "metadata": {
  "kernelspec": {
   "display_name": "Python 3",
   "language": "python",
   "name": "python3"
  },
  "language_info": {
   "codemirror_mode": {
    "name": "ipython",
    "version": 3
   },
   "file_extension": ".py",
   "mimetype": "text/x-python",
   "name": "python",
   "nbconvert_exporter": "python",
   "pygments_lexer": "ipython3",
   "version": "3.7.10"
  }
 },
 "nbformat": 4,
 "nbformat_minor": 5
}
