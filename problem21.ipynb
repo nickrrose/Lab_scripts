{
 "cells": [
  {
   "cell_type": "markdown",
   "id": "8ff3b720",
   "metadata": {},
   "source": [
    "# Rosalind problem21\n",
    "\n",
    "Nicholas Rose\n",
    "\n",
    "BME 205\n",
    "\n",
    "Due Date: November 22, 2021"
   ]
  },
  {
   "cell_type": "markdown",
   "id": "e3fa360d",
   "metadata": {},
   "source": [
    "## Implement the Viterbi Algorithm, Decoding Problem:\n",
    "\n",
    "Given: A string x, followed by the alphabet Σ from which x was constructed, followed by the states States, transition matrix Transition, and emission matrix Emission of an HMM (Σ, States, Transition, Emission).\n",
    "\n",
    "Return: A path that maximizes the (unconditional) probability Pr(x, π) over all possible paths π."
   ]
  },
  {
   "cell_type": "code",
   "execution_count": 225,
   "id": "80ab303a",
   "metadata": {},
   "outputs": [],
   "source": [
    "import math"
   ]
  },
  {
   "cell_type": "code",
   "execution_count": 226,
   "id": "3e0373f1",
   "metadata": {},
   "outputs": [],
   "source": [
    "class Table():\n",
    "    '''\n",
    "    Object 'Table'. Initialized by a list (table)\n",
    "    of file lines (strings), representing the header and rows\n",
    "    of a matrix. Includes attributes:\n",
    "    self.table (dictionary), and \n",
    "    self.states (list), which are populated when creating an object\n",
    "    \n",
    "    '''\n",
    "    \n",
    "    def __init__(self, table):\n",
    "        \n",
    "        self.table = {}\n",
    "        self.states = []\n",
    "        \n",
    "        for i, line in enumerate(table):\n",
    "            if i == 0:\n",
    "                for j in line:\n",
    "                    self.states.append(j)\n",
    "            else:\n",
    "                state = line[0]\n",
    "                for index, j in enumerate(line[1:]):\n",
    "                    self.table[(state, self.states[index])] = float(j)\n",
    "                    "
   ]
  },
  {
   "cell_type": "code",
   "execution_count": 352,
   "id": "c473f3e9",
   "metadata": {},
   "outputs": [],
   "source": [
    "class Viterbi():\n",
    "    '''\n",
    "    \n",
    "    '''\n",
    "    \n",
    "    def __init__(self):\n",
    "     \n",
    "        self.nodes = []\n",
    "        self.edges = []\n",
    "        \n",
    "       \n",
    "    def algorithm(self, x, states, transitionTable, emissionTable):\n",
    "        \n",
    "        for i in range(len(x)):\n",
    "            \n",
    "            if len(self.nodes) == 0:\n",
    "                row = {}\n",
    "                \n",
    "                start = 1 / len(states)\n",
    "                for j in states:\n",
    "                    row[j] = start * emissionTable[(j, x[i])]\n",
    "                \n",
    "                self.nodes.append(row)\n",
    "                    \n",
    "            else:\n",
    "                rowNodes = {}\n",
    "                rowEdges = {}\n",
    "                \n",
    "                for j in states:\n",
    "                    listInput = []\n",
    "                    for k in transitionTable:\n",
    "                        if k[1] == j:\n",
    "                            listInput.append(math.log10(self.nodes[i - 1][k[0]]) + \n",
    "                                             math.log10(transitionTable[k] * emissionTable[(j, x[i])]))\n",
    "                    \n",
    "                    \n",
    "                    rowEdges[j] = listInput\n",
    "                    rowNodes[j] = 10 ** max(listInput)\n",
    "                self.edges.append(rowEdges)\n",
    "                self.nodes.append(rowNodes)\n",
    "                \n",
    "    \n",
    "    def hiddenPath(self, states):\n",
    "        \n",
    "        hiddenPath = ''\n",
    "        last = max(self.nodes[-1], key=self.nodes[-1].get)\n",
    "        hiddenPath += last\n",
    "        \n",
    "        for dictionary in self.edges[::-1]:\n",
    "            listMax = max(dictionary[last])\n",
    "            index = dictionary[last].index(listMax)\n",
    "            state = states[index]\n",
    "            hiddenPath += state\n",
    "            last = state\n",
    "        \n",
    "        return hiddenPath[::-1]\n",
    "            \n",
    "         \n",
    "            "
   ]
  },
  {
   "cell_type": "markdown",
   "id": "cce3fd62",
   "metadata": {},
   "source": [
    "### Main"
   ]
  },
  {
   "cell_type": "code",
   "execution_count": 353,
   "id": "8f02f16a",
   "metadata": {},
   "outputs": [
    {
     "name": "stdout",
     "output_type": "stream",
     "text": [
      "AAAAAAAAAAAAAAAAAAAAAAAAAAAAAAAAAAAAAAAAAAAAAAAAAAAAAAAAAAAAAAAAAAAAAAAAAAAAAAAAAAAAAAAAAAAAAAAAAAAA\n"
     ]
    }
   ],
   "source": [
    "def main(infile):\n",
    "    '''\n",
    "    The main method. This method takes file containing\n",
    "    '''\n",
    "    \n",
    "    x = ''\n",
    "    chars = []\n",
    "    states = []\n",
    "    transitionTable = []\n",
    "    emissionTable = []\n",
    "    \n",
    "    section = 0\n",
    "    with open(infile) as f:\n",
    "        for i, line in enumerate(f.readlines()):\n",
    "            if section == 0:\n",
    "                if '-' not in line:\n",
    "                    x = line.strip()\n",
    "                else:\n",
    "                    section += 1\n",
    "            elif section == 1:\n",
    "                if '-' not in line:\n",
    "                    chars = line.strip().split()\n",
    "                else:\n",
    "                    section += 1\n",
    "            elif section == 2:\n",
    "                if '-' not in line:\n",
    "                    states = line.strip().split()\n",
    "                else:\n",
    "                    section += 1\n",
    "            elif section == 3:\n",
    "                if '-' not in line:\n",
    "                    transitionTable.append(line.strip().split())\n",
    "                else:\n",
    "                    section += 1\n",
    "            elif section == 4:\n",
    "                if '-' not in line:\n",
    "                    emissionTable.append(line.strip().split())\n",
    "                \n",
    "    transitionTable = Table(transitionTable).table\n",
    "    emissionTable = Table(emissionTable).table\n",
    "    \n",
    "    viterbi = Viterbi()\n",
    "    viterbi.algorithm(x, states, transitionTable, emissionTable)\n",
    "    hiddenPath = viterbi.hiddenPath(states)\n",
    "    print(hiddenPath)\n",
    "        \n",
    "    \n",
    "    with open('rosalind_21.txt.out', 'w') as out:\n",
    "        print(hiddenPath, file=out)\n",
    "    \n",
    "    \n",
    "if __name__ == \"__main__\":\n",
    "    main('/home/nick_rose/Downloads/rosalind_ba10c.txt')"
   ]
  },
  {
   "cell_type": "code",
   "execution_count": 345,
   "id": "ac55d431",
   "metadata": {},
   "outputs": [
    {
     "name": "stdout",
     "output_type": "stream",
     "text": [
      "True\n"
     ]
    }
   ],
   "source": []
  },
  {
   "cell_type": "code",
   "execution_count": null,
   "id": "7a536a85",
   "metadata": {},
   "outputs": [],
   "source": []
  }
 ],
 "metadata": {
  "kernelspec": {
   "display_name": "Python 3",
   "language": "python",
   "name": "python3"
  },
  "language_info": {
   "codemirror_mode": {
    "name": "ipython",
    "version": 3
   },
   "file_extension": ".py",
   "mimetype": "text/x-python",
   "name": "python",
   "nbconvert_exporter": "python",
   "pygments_lexer": "ipython3",
   "version": "3.7.10"
  }
 },
 "nbformat": 4,
 "nbformat_minor": 5
}
