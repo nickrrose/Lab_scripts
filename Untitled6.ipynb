{
 "cells": [
  {
   "cell_type": "markdown",
   "id": "d5d928a3",
   "metadata": {},
   "source": [
    "Rosalind_17.ipynb problem17 Nicholas Rose BME 205\n",
    "\n",
    "Generating Theoretical Spectrum Problem:\n",
    "Generate the theoretical spectrum of a cyclic peptide.\n",
    "Given: An amino acid string Peptide.\n",
    "Return: Cyclospectrum(Peptide)."
   ]
  },
  {
   "cell_type": "code",
   "execution_count": 148,
   "id": "7c56d312",
   "metadata": {},
   "outputs": [],
   "source": [
    "class Spectrum():\n",
    "    '''\n",
    "    Initializes an object (Spectrum) from a given Peptide.\n",
    "    Includes a dictionary of amino acid keys and corresponding masses\n",
    "    '''\n",
    "    \n",
    "    table = {'G':57, 'A':71, 'S':87, 'P':97, 'V':99, 'T':101, 'C':103, \n",
    "            'I':113, 'L':113, 'N':114, 'D':115, 'K':128, 'Q':128, 'E':129, \n",
    "            'M':131,'H':137, 'F':147, 'R':156, 'Y':163, 'W':186}\n",
    "    \n",
    "    \n",
    "    def __init__(self, peptide):\n",
    "        self.peptide = peptide\n",
    "        self.spectrum = [0]\n",
    "        \n",
    "    def createSpectrum(self):\n",
    "        '''\n",
    "        Creates a Cyclopeptide Spectrum from a Spectrum object's\n",
    "        peptide attribute. This is stored by the attribute self.spectrum\n",
    "        '''\n",
    "        \n",
    "        aminoMassList = []\n",
    "        for i in self.peptide:\n",
    "            aminoMassList.append(self.table[i])\n",
    "            \n",
    "        windowSize = 1\n",
    "        i = 0\n",
    "        \n",
    "        while True:\n",
    "            if i+windowSize <= len(aminoMassList):\n",
    "                window = aminoMassList[i:i+windowSize]\n",
    "            else:\n",
    "                window = (aminoMassList[i:len(aminoMassList)] + \n",
    "                          aminoMassList[0:i+windowSize - len(aminoMassList)])\n",
    "\n",
    "            self.spectrum.append(sum(window))\n",
    "            if windowSize == len(aminoMassList):\n",
    "                break\n",
    "            i += 1\n",
    "            if i >= len(aminoMassList):\n",
    "                windowSize += 1\n",
    "                i = 0\n",
    "                \n",
    "        self.spectrum.sort()"
   ]
  },
  {
   "cell_type": "code",
   "execution_count": 149,
   "id": "de635f10",
   "metadata": {},
   "outputs": [],
   "source": [
    "def main(infile):\n",
    "    '''\n",
    "    The main method. This method takes file containing a row with\n",
    "    an amino acid string peptide.\n",
    "    Prints output into a file named 'rosalind_17.txt.out', \n",
    "    containing rows of returned Cyclosprectrum.\n",
    "    '''\n",
    "    \n",
    "    with open(infile) as f:\n",
    "        peptide = f.readline().strip()\n",
    "    \n",
    "    spectrum = Spectrum(peptide)\n",
    "    spectrum.createSpectrum()\n",
    "    \n",
    "    with open('rosalind_17.txt.out', 'w') as out:\n",
    "        print(spectrum.spectrum[0], file=out, end='')\n",
    "        for i in spectrum.spectrum[1:]:\n",
    "            print('', i, file=out, end='')\n",
    "    \n",
    "    \n",
    "if __name__ == \"__main__\":\n",
    "    main('/home/nick_rose/Downloads/rosalind_ba4c (2).txt')"
   ]
  },
  {
   "cell_type": "code",
   "execution_count": null,
   "id": "216c5eeb",
   "metadata": {},
   "outputs": [],
   "source": []
  }
 ],
 "metadata": {
  "kernelspec": {
   "display_name": "Python 3",
   "language": "python",
   "name": "python3"
  },
  "language_info": {
   "codemirror_mode": {
    "name": "ipython",
    "version": 3
   },
   "file_extension": ".py",
   "mimetype": "text/x-python",
   "name": "python",
   "nbconvert_exporter": "python",
   "pygments_lexer": "ipython3",
   "version": "3.7.10"
  }
 },
 "nbformat": 4,
 "nbformat_minor": 5
}
