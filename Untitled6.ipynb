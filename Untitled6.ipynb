{
 "cells": [
  {
   "cell_type": "code",
   "execution_count": 148,
   "id": "d6929e67",
   "metadata": {},
   "outputs": [],
   "source": [
    "#from itertools import cycle\n",
    "\n",
    "class Spectrum():\n",
    "    \n",
    "    table = {'G':57, 'A':71, 'S':87, 'P':97, 'V':99, 'T':101, 'C':103, \n",
    "            'I':113, 'L':113, 'N':114, 'D':115, 'K':128, 'Q':128, 'E':129, \n",
    "            'M':131,'H':137, 'F':147, 'R':156, 'Y':163, 'W':186}\n",
    "    \n",
    "    \n",
    "    def __init__(self, peptide):\n",
    "        self.peptide = peptide\n",
    "        self.spectrum = [0]\n",
    "        \n",
    "    def createSpectrum(self):\n",
    "        aminoMassList = []\n",
    "        for i in self.peptide:\n",
    "            aminoMassList.append(self.table[i])\n",
    "            \n",
    "        windowSize = 1\n",
    "        i = 0\n",
    "        \n",
    "        while True:\n",
    "            if i+windowSize <= len(aminoMassList):\n",
    "                window = aminoMassList[i:i+windowSize]\n",
    "            else:\n",
    "                window = (aminoMassList[i:len(aminoMassList)] + \n",
    "                          aminoMassList[0:i+windowSize - len(aminoMassList)])\n",
    "\n",
    "            self.spectrum.append(sum(window))\n",
    "            if windowSize == len(aminoMassList):\n",
    "                break\n",
    "            i += 1\n",
    "            if i >= len(aminoMassList):\n",
    "                windowSize += 1\n",
    "                i = 0\n",
    "                \n",
    "        self.spectrum.sort()"
   ]
  },
  {
   "cell_type": "code",
   "execution_count": 149,
   "id": "1969fbc0",
   "metadata": {},
   "outputs": [],
   "source": [
    "def main(infile):\n",
    "    \n",
    "    with open(infile) as f:\n",
    "        peptide = f.readline().strip()\n",
    "    \n",
    "    spectrum = Spectrum(peptide)\n",
    "    spectrum.createSpectrum()\n",
    "    \n",
    "    with open('rosalind_17.txt.out', 'w') as out:\n",
    "        print(spectrum.spectrum[0], file=out, end='')\n",
    "        for i in spectrum.spectrum[1:]:\n",
    "            print('', i, file=out, end='')\n",
    "    \n",
    "    \n",
    "if __name__ == \"__main__\":\n",
    "    main('/home/nick_rose/Downloads/rosalind_ba4c (2).txt')"
   ]
  },
  {
   "cell_type": "code",
   "execution_count": null,
   "id": "5b4b2b06",
   "metadata": {},
   "outputs": [],
   "source": []
  }
 ],
 "metadata": {
  "kernelspec": {
   "display_name": "Python 3",
   "language": "python",
   "name": "python3"
  },
  "language_info": {
   "codemirror_mode": {
    "name": "ipython",
    "version": 3
   },
   "file_extension": ".py",
   "mimetype": "text/x-python",
   "name": "python",
   "nbconvert_exporter": "python",
   "pygments_lexer": "ipython3",
   "version": "3.7.10"
  }
 },
 "nbformat": 4,
 "nbformat_minor": 5
}
