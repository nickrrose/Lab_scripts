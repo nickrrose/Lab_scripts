{
 "cells": [
  {
   "cell_type": "code",
   "execution_count": 31,
   "id": "31ab7757",
   "metadata": {},
   "outputs": [],
   "source": [
    "#19"
   ]
  },
  {
   "cell_type": "code",
   "execution_count": 50,
   "id": "982ac1e6",
   "metadata": {},
   "outputs": [],
   "source": [
    "class TransitionTable():\n",
    "    '''\n",
    "    \n",
    "    '''\n",
    "    \n",
    "    def __init__(self, table):\n",
    "        \n",
    "        self.transitionTable = {}\n",
    "        self.states = []\n",
    "        \n",
    "        for i, line in enumerate(table):\n",
    "            if i == 0:\n",
    "                for j in line:\n",
    "                    self.states.append(j)\n",
    "            else:\n",
    "                state = line[0]\n",
    "                for index, j in enumerate(line[1:]):\n",
    "                    self.transitionTable[(state, self.states[index])] = float(j)\n",
    "            "
   ]
  },
  {
   "cell_type": "code",
   "execution_count": 89,
   "id": "3080d434",
   "metadata": {},
   "outputs": [],
   "source": [
    "class HiddenPathProb():\n",
    "    '''\n",
    "    \n",
    "    '''\n",
    "    \n",
    "    def __init__(self, states):\n",
    "        \n",
    "        self.prob = 1 / len(states)\n",
    "        \n",
    "        \n",
    "    def findProb(self, sequence, states, transitionTable):\n",
    "        \n",
    "        dictionary = {}\n",
    "        for i in range(len(sequence) - 1):\n",
    "            window = sequence[i:i+2]\n",
    "            \n",
    "            if window not in dictionary:\n",
    "                dictionary[window] = 1\n",
    "                \n",
    "            else:\n",
    "                dictionary[window] += 1\n",
    "        \n",
    "        for key, value in dictionary.items():\n",
    "            self.prob = self.prob * (transitionTable[(key[0], key[1])] ** value)\n",
    "            \n",
    "        return self.prob\n",
    "            \n",
    "        \n",
    "        \n",
    "        "
   ]
  },
  {
   "cell_type": "code",
   "execution_count": 93,
   "id": "0012e62f",
   "metadata": {},
   "outputs": [
    {
     "name": "stdout",
     "output_type": "stream",
     "text": [
      "1.71904522594833e-15\n"
     ]
    }
   ],
   "source": [
    "def main(infile):\n",
    "    '''\n",
    "    The main method. This method takes file containing a row with\n",
    "    an amino acid string peptide.\n",
    "    Prints output into a file named 'rosalind_17.txt.out', \n",
    "    containing rows of returned Cyclosprectrum.\n",
    "    '''\n",
    "    \n",
    "    sequence = ''\n",
    "    states = []\n",
    "    transitionTable = []\n",
    "    \n",
    "    section = 0\n",
    "    with open(infile) as f:\n",
    "        for i, line in enumerate(f.readlines()):\n",
    "            \n",
    "            if section == 0:\n",
    "                sequence = line.strip()\n",
    "                section += 1\n",
    "                \n",
    "            elif section == 1 and '-' not in line:\n",
    "                states = line.strip().split()\n",
    "                section += 1\n",
    "                \n",
    "            elif section == 2 and '-' not in line:\n",
    "                transitionTable.append(line.strip().split())\n",
    "    \n",
    "\n",
    "    \n",
    "    transitionTable = TransitionTable(transitionTable).transitionTable\n",
    "    \n",
    "    prob = HiddenPathProb(states).findProb(sequence, states, transitionTable)\n",
    "    print(prob)\n",
    "    \n",
    "                \n",
    "            \n",
    "    \n",
    "    with open('rosalind_19.txt.out', 'w') as out:\n",
    "        print(prob, file=out)\n",
    "    \n",
    "    \n",
    "if __name__ == \"__main__\":\n",
    "    main('/home/nick_rose/Downloads/rosalind_ba10a.txt')"
   ]
  },
  {
   "cell_type": "code",
   "execution_count": null,
   "id": "63d7edaf",
   "metadata": {},
   "outputs": [],
   "source": []
  }
 ],
 "metadata": {
  "kernelspec": {
   "display_name": "Python 3",
   "language": "python",
   "name": "python3"
  },
  "language_info": {
   "codemirror_mode": {
    "name": "ipython",
    "version": 3
   },
   "file_extension": ".py",
   "mimetype": "text/x-python",
   "name": "python",
   "nbconvert_exporter": "python",
   "pygments_lexer": "ipython3",
   "version": "3.7.10"
  }
 },
 "nbformat": 4,
 "nbformat_minor": 5
}
