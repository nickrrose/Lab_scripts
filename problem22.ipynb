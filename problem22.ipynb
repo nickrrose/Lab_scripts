{
 "cells": [
  {
   "cell_type": "markdown",
   "id": "b5922fcd",
   "metadata": {},
   "source": [
    "# Rosalind problem22\n",
    "\n",
    "Nicholas Rose\n",
    "\n",
    "BME 205\n",
    "\n",
    "Due Date: November 22, 2021"
   ]
  },
  {
   "cell_type": "markdown",
   "id": "a63504c9",
   "metadata": {},
   "source": [
    "## Compute the Probability of a String Emitted by an HMM, Outcome Likelihood Problem:\n",
    "\n",
    "Given: A string x, followed by the alphabet Σ from which x was constructed, followed by the states States, transition matrix Transition, and emission matrix Emission of an HMM (Σ, States, Transition, Emission).\n",
    "\n",
    "Return: The probability Pr(x) that the HMM emits x."
   ]
  },
  {
   "cell_type": "code",
   "execution_count": 1,
   "id": "3adc9ce3",
   "metadata": {},
   "outputs": [],
   "source": [
    "class Table():\n",
    "    '''\n",
    "    Object 'Table'. Initialized by a list (table)\n",
    "    of file lines (strings), representing the header and rows\n",
    "    of a matrix. Includes attributes:\n",
    "    self.table (dictionary), and \n",
    "    self.states (list), which are populated when creating an object\n",
    "    '''\n",
    "    \n",
    "    def __init__(self, table):\n",
    "        \n",
    "        self.table = {}\n",
    "        self.states = []\n",
    "        \n",
    "        for i, line in enumerate(table):\n",
    "            if i == 0:\n",
    "                for j in line:\n",
    "                    self.states.append(j)\n",
    "            else:\n",
    "                state = line[0]\n",
    "                for index, j in enumerate(line[1:]):\n",
    "                    self.table[(state, self.states[index])] = float(j)\n",
    "                    "
   ]
  },
  {
   "cell_type": "code",
   "execution_count": 89,
   "id": "77244450",
   "metadata": {},
   "outputs": [],
   "source": [
    "class Viterbi():\n",
    "    '''\n",
    "    \n",
    "    '''\n",
    "    \n",
    "    def __init__(self):\n",
    "    \n",
    "        self.nodes = []\n",
    "        self.prob = 0\n",
    "        \n",
    "       \n",
    "    def forward(self, x, states, transitionTable, emissionTable):\n",
    "        '''\n",
    "        \n",
    "        '''\n",
    "        \n",
    "        for i in range(len(x)):\n",
    "            if len(self.nodes) == 0:\n",
    "                row = {}\n",
    "                start = 1 / len(states)\n",
    "                for j in states:\n",
    "                    row[j] = start * emissionTable[(j, x[i])]\n",
    "                \n",
    "                self.nodes.append(row)\n",
    "                    \n",
    "            else:\n",
    "                rowNodes = {}\n",
    "                for j in states:\n",
    "                    listInput = []\n",
    "                    for k in transitionTable:\n",
    "                        if k[1] == j:\n",
    "                            listInput.append(self.nodes[i - 1][k[0]] * \n",
    "                                             transitionTable[k] * \n",
    "                                             emissionTable[(j, x[i])])\n",
    "\n",
    "                    rowNodes[j] = sum(listInput)\n",
    "                self.nodes.append(rowNodes)\n",
    "                \n",
    "        for state in self.nodes[-1]:\n",
    "            self.prob += self.nodes[-1][state]\n",
    "            \n",
    "        return self.prob\n",
    "            "
   ]
  },
  {
   "cell_type": "markdown",
   "id": "95f855b3",
   "metadata": {},
   "source": [
    "### Main"
   ]
  },
  {
   "cell_type": "code",
   "execution_count": 91,
   "id": "1c71d6d9",
   "metadata": {},
   "outputs": [
    {
     "name": "stdout",
     "output_type": "stream",
     "text": [
      "1.4964579099801434e-52\n"
     ]
    }
   ],
   "source": [
    "def main(infile):\n",
    "    '''\n",
    "    The main method. This method takes file containing\n",
    "    '''\n",
    "    \n",
    "    x = ''\n",
    "    chars = []\n",
    "    states = []\n",
    "    transitionTable = []\n",
    "    emissionTable = []\n",
    "    \n",
    "    section = 0\n",
    "    with open(infile) as f:\n",
    "        for i, line in enumerate(f.readlines()):\n",
    "            if section == 0:\n",
    "                if '-' not in line:\n",
    "                    x = line.strip()\n",
    "                else:\n",
    "                    section += 1\n",
    "            elif section == 1:\n",
    "                if '-' not in line:\n",
    "                    chars = line.strip().split()\n",
    "                else:\n",
    "                    section += 1\n",
    "            elif section == 2:\n",
    "                if '-' not in line:\n",
    "                    states = line.strip().split()\n",
    "                else:\n",
    "                    section += 1\n",
    "            elif section == 3:\n",
    "                if '-' not in line:\n",
    "                    transitionTable.append(line.strip().split())\n",
    "                else:\n",
    "                    section += 1\n",
    "            elif section == 4:\n",
    "                if '-' not in line:\n",
    "                    emissionTable.append(line.strip().split())\n",
    "                \n",
    "    transitionTable = Table(transitionTable).table\n",
    "    emissionTable = Table(emissionTable).table\n",
    "    \n",
    "    forward = Viterbi()\n",
    "    prob = forward.forward(x, states, transitionTable, emissionTable)\n",
    "    print(prob)  \n",
    "    \n",
    "    with open('rosalind_22.txt.out', 'w') as out:\n",
    "        print(prob, file=out)\n",
    "    \n",
    "    \n",
    "if __name__ == \"__main__\":\n",
    "    main('/home/nick_rose/Downloads/rosalind_ba10d.txt')"
   ]
  },
  {
   "cell_type": "code",
   "execution_count": null,
   "id": "3edcd10c",
   "metadata": {},
   "outputs": [],
   "source": []
  },
  {
   "cell_type": "code",
   "execution_count": null,
   "id": "149e4498",
   "metadata": {},
   "outputs": [],
   "source": []
  }
 ],
 "metadata": {
  "kernelspec": {
   "display_name": "Python 3",
   "language": "python",
   "name": "python3"
  },
  "language_info": {
   "codemirror_mode": {
    "name": "ipython",
    "version": 3
   },
   "file_extension": ".py",
   "mimetype": "text/x-python",
   "name": "python",
   "nbconvert_exporter": "python",
   "pygments_lexer": "ipython3",
   "version": "3.7.10"
  }
 },
 "nbformat": 4,
 "nbformat_minor": 5
}
